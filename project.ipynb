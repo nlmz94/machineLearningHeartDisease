{
 "cells": [
  {
   "cell_type": "markdown",
   "id": "525cf486",
   "metadata": {},
   "source": [
    "# Projet"
   ]
  },
  {
   "cell_type": "code",
   "execution_count": 32,
   "id": "d41026c5",
   "metadata": {},
   "outputs": [],
   "source": [
    "import pandas as pd\n",
    "import matplotlib.pyplot as plt\n",
    "\n",
    "df = pd.read_csv('heart_2020_cleaned.csv')"
   ]
  },
  {
   "cell_type": "markdown",
   "id": "c7be73dc",
   "metadata": {},
   "source": [
    "## Exploration"
   ]
  },
  {
   "cell_type": "code",
   "execution_count": 33,
   "id": "a4dc9457",
   "metadata": {},
   "outputs": [
    {
     "data": {
      "text/plain": [
       "(319795, 18)"
      ]
     },
     "execution_count": 33,
     "metadata": {},
     "output_type": "execute_result"
    }
   ],
   "source": [
    "df.shape"
   ]
  },
  {
   "cell_type": "code",
   "execution_count": 34,
   "id": "f8f9be85",
   "metadata": {},
   "outputs": [
    {
     "data": {
      "text/plain": [
       "HeartDisease         object\n",
       "BMI                 float64\n",
       "Smoking              object\n",
       "AlcoholDrinking      object\n",
       "Stroke               object\n",
       "PhysicalHealth      float64\n",
       "MentalHealth        float64\n",
       "DiffWalking          object\n",
       "Sex                  object\n",
       "AgeCategory          object\n",
       "Race                 object\n",
       "Diabetic             object\n",
       "PhysicalActivity     object\n",
       "GenHealth            object\n",
       "SleepTime           float64\n",
       "Asthma               object\n",
       "KidneyDisease        object\n",
       "SkinCancer           object\n",
       "dtype: object"
      ]
     },
     "execution_count": 34,
     "metadata": {},
     "output_type": "execute_result"
    }
   ],
   "source": [
    "df.dtypes"
   ]
  },
  {
   "cell_type": "markdown",
   "id": "14583c06",
   "metadata": {},
   "source": [
    "On peut observer les valeurs continues"
   ]
  },
  {
   "cell_type": "code",
   "execution_count": 35,
   "id": "12f70e1e",
   "metadata": {},
   "outputs": [
    {
     "data": {
      "text/html": [
       "<div>\n",
       "<style scoped>\n",
       "    .dataframe tbody tr th:only-of-type {\n",
       "        vertical-align: middle;\n",
       "    }\n",
       "\n",
       "    .dataframe tbody tr th {\n",
       "        vertical-align: top;\n",
       "    }\n",
       "\n",
       "    .dataframe thead th {\n",
       "        text-align: right;\n",
       "    }\n",
       "</style>\n",
       "<table border=\"1\" class=\"dataframe\">\n",
       "  <thead>\n",
       "    <tr style=\"text-align: right;\">\n",
       "      <th></th>\n",
       "      <th>BMI</th>\n",
       "      <th>PhysicalHealth</th>\n",
       "      <th>MentalHealth</th>\n",
       "      <th>SleepTime</th>\n",
       "    </tr>\n",
       "  </thead>\n",
       "  <tbody>\n",
       "    <tr>\n",
       "      <th>0</th>\n",
       "      <td>16.60</td>\n",
       "      <td>3.0</td>\n",
       "      <td>30.0</td>\n",
       "      <td>5.0</td>\n",
       "    </tr>\n",
       "    <tr>\n",
       "      <th>1</th>\n",
       "      <td>20.34</td>\n",
       "      <td>0.0</td>\n",
       "      <td>0.0</td>\n",
       "      <td>7.0</td>\n",
       "    </tr>\n",
       "  </tbody>\n",
       "</table>\n",
       "</div>"
      ],
      "text/plain": [
       "     BMI  PhysicalHealth  MentalHealth  SleepTime\n",
       "0  16.60             3.0          30.0        5.0\n",
       "1  20.34             0.0           0.0        7.0"
      ]
     },
     "execution_count": 35,
     "metadata": {},
     "output_type": "execute_result"
    }
   ],
   "source": [
    "dfNumber = df.select_dtypes('float64')\n",
    "dfNumber.head(2)\n"
   ]
  },
  {
   "cell_type": "markdown",
   "id": "fd0f9f3f",
   "metadata": {},
   "source": [
    "Et les valeurs discrètes "
   ]
  },
  {
   "cell_type": "code",
   "execution_count": 36,
   "id": "7e1ed4f9",
   "metadata": {},
   "outputs": [
    {
     "data": {
      "text/html": [
       "<div>\n",
       "<style scoped>\n",
       "    .dataframe tbody tr th:only-of-type {\n",
       "        vertical-align: middle;\n",
       "    }\n",
       "\n",
       "    .dataframe tbody tr th {\n",
       "        vertical-align: top;\n",
       "    }\n",
       "\n",
       "    .dataframe thead th {\n",
       "        text-align: right;\n",
       "    }\n",
       "</style>\n",
       "<table border=\"1\" class=\"dataframe\">\n",
       "  <thead>\n",
       "    <tr style=\"text-align: right;\">\n",
       "      <th></th>\n",
       "      <th>HeartDisease</th>\n",
       "      <th>Smoking</th>\n",
       "      <th>AlcoholDrinking</th>\n",
       "      <th>Stroke</th>\n",
       "      <th>DiffWalking</th>\n",
       "      <th>Sex</th>\n",
       "      <th>AgeCategory</th>\n",
       "      <th>Race</th>\n",
       "      <th>Diabetic</th>\n",
       "      <th>PhysicalActivity</th>\n",
       "      <th>GenHealth</th>\n",
       "      <th>Asthma</th>\n",
       "      <th>KidneyDisease</th>\n",
       "      <th>SkinCancer</th>\n",
       "    </tr>\n",
       "  </thead>\n",
       "  <tbody>\n",
       "    <tr>\n",
       "      <th>0</th>\n",
       "      <td>No</td>\n",
       "      <td>Yes</td>\n",
       "      <td>No</td>\n",
       "      <td>No</td>\n",
       "      <td>No</td>\n",
       "      <td>Female</td>\n",
       "      <td>55-59</td>\n",
       "      <td>White</td>\n",
       "      <td>Yes</td>\n",
       "      <td>Yes</td>\n",
       "      <td>Very good</td>\n",
       "      <td>Yes</td>\n",
       "      <td>No</td>\n",
       "      <td>Yes</td>\n",
       "    </tr>\n",
       "    <tr>\n",
       "      <th>1</th>\n",
       "      <td>No</td>\n",
       "      <td>No</td>\n",
       "      <td>No</td>\n",
       "      <td>Yes</td>\n",
       "      <td>No</td>\n",
       "      <td>Female</td>\n",
       "      <td>80 or older</td>\n",
       "      <td>White</td>\n",
       "      <td>No</td>\n",
       "      <td>Yes</td>\n",
       "      <td>Very good</td>\n",
       "      <td>No</td>\n",
       "      <td>No</td>\n",
       "      <td>No</td>\n",
       "    </tr>\n",
       "  </tbody>\n",
       "</table>\n",
       "</div>"
      ],
      "text/plain": [
       "  HeartDisease Smoking AlcoholDrinking Stroke DiffWalking     Sex  \\\n",
       "0           No     Yes              No     No          No  Female   \n",
       "1           No      No              No    Yes          No  Female   \n",
       "\n",
       "   AgeCategory   Race Diabetic PhysicalActivity  GenHealth Asthma  \\\n",
       "0        55-59  White      Yes              Yes  Very good    Yes   \n",
       "1  80 or older  White       No              Yes  Very good     No   \n",
       "\n",
       "  KidneyDisease SkinCancer  \n",
       "0            No        Yes  \n",
       "1            No         No  "
      ]
     },
     "execution_count": 36,
     "metadata": {},
     "output_type": "execute_result"
    }
   ],
   "source": [
    "dfObject = df.select_dtypes('object')\n",
    "dfObject.head(2)"
   ]
  },
  {
   "cell_type": "markdown",
   "id": "92f2dfd0",
   "metadata": {},
   "source": [
    "Quantité de valeus nulles => Le fichier ne contient aucune valeur nulle "
   ]
  },
  {
   "cell_type": "code",
   "execution_count": 37,
   "id": "5b47ff54",
   "metadata": {},
   "outputs": [
    {
     "data": {
      "text/plain": [
       "HeartDisease        0\n",
       "BMI                 0\n",
       "Smoking             0\n",
       "AlcoholDrinking     0\n",
       "Stroke              0\n",
       "PhysicalHealth      0\n",
       "MentalHealth        0\n",
       "DiffWalking         0\n",
       "Sex                 0\n",
       "AgeCategory         0\n",
       "Race                0\n",
       "Diabetic            0\n",
       "PhysicalActivity    0\n",
       "GenHealth           0\n",
       "SleepTime           0\n",
       "Asthma              0\n",
       "KidneyDisease       0\n",
       "SkinCancer          0\n",
       "dtype: int64"
      ]
     },
     "execution_count": 37,
     "metadata": {},
     "output_type": "execute_result"
    }
   ],
   "source": [
    "df.isna().sum()"
   ]
  },
  {
   "cell_type": "code",
   "execution_count": 38,
   "id": "8894a96b",
   "metadata": {},
   "outputs": [
    {
     "data": {
      "text/html": [
       "<div>\n",
       "<style scoped>\n",
       "    .dataframe tbody tr th:only-of-type {\n",
       "        vertical-align: middle;\n",
       "    }\n",
       "\n",
       "    .dataframe tbody tr th {\n",
       "        vertical-align: top;\n",
       "    }\n",
       "\n",
       "    .dataframe thead th {\n",
       "        text-align: right;\n",
       "    }\n",
       "</style>\n",
       "<table border=\"1\" class=\"dataframe\">\n",
       "  <thead>\n",
       "    <tr style=\"text-align: right;\">\n",
       "      <th></th>\n",
       "      <th>HeartDisease</th>\n",
       "      <th>BMI</th>\n",
       "      <th>Smoking</th>\n",
       "      <th>AlcoholDrinking</th>\n",
       "      <th>Stroke</th>\n",
       "      <th>PhysicalHealth</th>\n",
       "      <th>MentalHealth</th>\n",
       "      <th>DiffWalking</th>\n",
       "      <th>Diabetic</th>\n",
       "      <th>PhysicalActivity</th>\n",
       "      <th>...</th>\n",
       "      <th>Asian</th>\n",
       "      <th>Black</th>\n",
       "      <th>Hispanic</th>\n",
       "      <th>Other</th>\n",
       "      <th>White</th>\n",
       "      <th>Excellent</th>\n",
       "      <th>Fair</th>\n",
       "      <th>Good</th>\n",
       "      <th>Poor</th>\n",
       "      <th>Very good</th>\n",
       "    </tr>\n",
       "  </thead>\n",
       "  <tbody>\n",
       "    <tr>\n",
       "      <th>0</th>\n",
       "      <td>0</td>\n",
       "      <td>16.60</td>\n",
       "      <td>1</td>\n",
       "      <td>0</td>\n",
       "      <td>0</td>\n",
       "      <td>3.0</td>\n",
       "      <td>30.0</td>\n",
       "      <td>0</td>\n",
       "      <td>1</td>\n",
       "      <td>1</td>\n",
       "      <td>...</td>\n",
       "      <td>0</td>\n",
       "      <td>0</td>\n",
       "      <td>0</td>\n",
       "      <td>0</td>\n",
       "      <td>1</td>\n",
       "      <td>0</td>\n",
       "      <td>0</td>\n",
       "      <td>0</td>\n",
       "      <td>0</td>\n",
       "      <td>1</td>\n",
       "    </tr>\n",
       "    <tr>\n",
       "      <th>1</th>\n",
       "      <td>0</td>\n",
       "      <td>20.34</td>\n",
       "      <td>0</td>\n",
       "      <td>0</td>\n",
       "      <td>1</td>\n",
       "      <td>0.0</td>\n",
       "      <td>0.0</td>\n",
       "      <td>0</td>\n",
       "      <td>0</td>\n",
       "      <td>1</td>\n",
       "      <td>...</td>\n",
       "      <td>0</td>\n",
       "      <td>0</td>\n",
       "      <td>0</td>\n",
       "      <td>0</td>\n",
       "      <td>1</td>\n",
       "      <td>0</td>\n",
       "      <td>0</td>\n",
       "      <td>0</td>\n",
       "      <td>0</td>\n",
       "      <td>1</td>\n",
       "    </tr>\n",
       "    <tr>\n",
       "      <th>2</th>\n",
       "      <td>0</td>\n",
       "      <td>26.58</td>\n",
       "      <td>1</td>\n",
       "      <td>0</td>\n",
       "      <td>0</td>\n",
       "      <td>20.0</td>\n",
       "      <td>30.0</td>\n",
       "      <td>0</td>\n",
       "      <td>1</td>\n",
       "      <td>1</td>\n",
       "      <td>...</td>\n",
       "      <td>0</td>\n",
       "      <td>0</td>\n",
       "      <td>0</td>\n",
       "      <td>0</td>\n",
       "      <td>1</td>\n",
       "      <td>0</td>\n",
       "      <td>1</td>\n",
       "      <td>0</td>\n",
       "      <td>0</td>\n",
       "      <td>0</td>\n",
       "    </tr>\n",
       "    <tr>\n",
       "      <th>3</th>\n",
       "      <td>0</td>\n",
       "      <td>24.21</td>\n",
       "      <td>0</td>\n",
       "      <td>0</td>\n",
       "      <td>0</td>\n",
       "      <td>0.0</td>\n",
       "      <td>0.0</td>\n",
       "      <td>0</td>\n",
       "      <td>0</td>\n",
       "      <td>0</td>\n",
       "      <td>...</td>\n",
       "      <td>0</td>\n",
       "      <td>0</td>\n",
       "      <td>0</td>\n",
       "      <td>0</td>\n",
       "      <td>1</td>\n",
       "      <td>0</td>\n",
       "      <td>0</td>\n",
       "      <td>1</td>\n",
       "      <td>0</td>\n",
       "      <td>0</td>\n",
       "    </tr>\n",
       "    <tr>\n",
       "      <th>4</th>\n",
       "      <td>0</td>\n",
       "      <td>23.71</td>\n",
       "      <td>0</td>\n",
       "      <td>0</td>\n",
       "      <td>0</td>\n",
       "      <td>28.0</td>\n",
       "      <td>0.0</td>\n",
       "      <td>1</td>\n",
       "      <td>0</td>\n",
       "      <td>1</td>\n",
       "      <td>...</td>\n",
       "      <td>0</td>\n",
       "      <td>0</td>\n",
       "      <td>0</td>\n",
       "      <td>0</td>\n",
       "      <td>1</td>\n",
       "      <td>0</td>\n",
       "      <td>0</td>\n",
       "      <td>0</td>\n",
       "      <td>0</td>\n",
       "      <td>1</td>\n",
       "    </tr>\n",
       "    <tr>\n",
       "      <th>...</th>\n",
       "      <td>...</td>\n",
       "      <td>...</td>\n",
       "      <td>...</td>\n",
       "      <td>...</td>\n",
       "      <td>...</td>\n",
       "      <td>...</td>\n",
       "      <td>...</td>\n",
       "      <td>...</td>\n",
       "      <td>...</td>\n",
       "      <td>...</td>\n",
       "      <td>...</td>\n",
       "      <td>...</td>\n",
       "      <td>...</td>\n",
       "      <td>...</td>\n",
       "      <td>...</td>\n",
       "      <td>...</td>\n",
       "      <td>...</td>\n",
       "      <td>...</td>\n",
       "      <td>...</td>\n",
       "      <td>...</td>\n",
       "      <td>...</td>\n",
       "    </tr>\n",
       "    <tr>\n",
       "      <th>319790</th>\n",
       "      <td>1</td>\n",
       "      <td>27.41</td>\n",
       "      <td>1</td>\n",
       "      <td>0</td>\n",
       "      <td>0</td>\n",
       "      <td>7.0</td>\n",
       "      <td>0.0</td>\n",
       "      <td>1</td>\n",
       "      <td>1</td>\n",
       "      <td>0</td>\n",
       "      <td>...</td>\n",
       "      <td>0</td>\n",
       "      <td>0</td>\n",
       "      <td>1</td>\n",
       "      <td>0</td>\n",
       "      <td>0</td>\n",
       "      <td>0</td>\n",
       "      <td>1</td>\n",
       "      <td>0</td>\n",
       "      <td>0</td>\n",
       "      <td>0</td>\n",
       "    </tr>\n",
       "    <tr>\n",
       "      <th>319791</th>\n",
       "      <td>0</td>\n",
       "      <td>29.84</td>\n",
       "      <td>1</td>\n",
       "      <td>0</td>\n",
       "      <td>0</td>\n",
       "      <td>0.0</td>\n",
       "      <td>0.0</td>\n",
       "      <td>0</td>\n",
       "      <td>0</td>\n",
       "      <td>1</td>\n",
       "      <td>...</td>\n",
       "      <td>0</td>\n",
       "      <td>0</td>\n",
       "      <td>1</td>\n",
       "      <td>0</td>\n",
       "      <td>0</td>\n",
       "      <td>0</td>\n",
       "      <td>0</td>\n",
       "      <td>0</td>\n",
       "      <td>0</td>\n",
       "      <td>1</td>\n",
       "    </tr>\n",
       "    <tr>\n",
       "      <th>319792</th>\n",
       "      <td>0</td>\n",
       "      <td>24.24</td>\n",
       "      <td>0</td>\n",
       "      <td>0</td>\n",
       "      <td>0</td>\n",
       "      <td>0.0</td>\n",
       "      <td>0.0</td>\n",
       "      <td>0</td>\n",
       "      <td>0</td>\n",
       "      <td>1</td>\n",
       "      <td>...</td>\n",
       "      <td>0</td>\n",
       "      <td>0</td>\n",
       "      <td>1</td>\n",
       "      <td>0</td>\n",
       "      <td>0</td>\n",
       "      <td>0</td>\n",
       "      <td>0</td>\n",
       "      <td>1</td>\n",
       "      <td>0</td>\n",
       "      <td>0</td>\n",
       "    </tr>\n",
       "    <tr>\n",
       "      <th>319793</th>\n",
       "      <td>0</td>\n",
       "      <td>32.81</td>\n",
       "      <td>0</td>\n",
       "      <td>0</td>\n",
       "      <td>0</td>\n",
       "      <td>0.0</td>\n",
       "      <td>0.0</td>\n",
       "      <td>0</td>\n",
       "      <td>0</td>\n",
       "      <td>0</td>\n",
       "      <td>...</td>\n",
       "      <td>0</td>\n",
       "      <td>0</td>\n",
       "      <td>1</td>\n",
       "      <td>0</td>\n",
       "      <td>0</td>\n",
       "      <td>0</td>\n",
       "      <td>0</td>\n",
       "      <td>1</td>\n",
       "      <td>0</td>\n",
       "      <td>0</td>\n",
       "    </tr>\n",
       "    <tr>\n",
       "      <th>319794</th>\n",
       "      <td>0</td>\n",
       "      <td>46.56</td>\n",
       "      <td>0</td>\n",
       "      <td>0</td>\n",
       "      <td>0</td>\n",
       "      <td>0.0</td>\n",
       "      <td>0.0</td>\n",
       "      <td>0</td>\n",
       "      <td>0</td>\n",
       "      <td>1</td>\n",
       "      <td>...</td>\n",
       "      <td>0</td>\n",
       "      <td>0</td>\n",
       "      <td>1</td>\n",
       "      <td>0</td>\n",
       "      <td>0</td>\n",
       "      <td>0</td>\n",
       "      <td>0</td>\n",
       "      <td>1</td>\n",
       "      <td>0</td>\n",
       "      <td>0</td>\n",
       "    </tr>\n",
       "  </tbody>\n",
       "</table>\n",
       "<p>319795 rows × 40 columns</p>\n",
       "</div>"
      ],
      "text/plain": [
       "        HeartDisease    BMI  Smoking  AlcoholDrinking  Stroke  PhysicalHealth  \\\n",
       "0                  0  16.60        1                0       0             3.0   \n",
       "1                  0  20.34        0                0       1             0.0   \n",
       "2                  0  26.58        1                0       0            20.0   \n",
       "3                  0  24.21        0                0       0             0.0   \n",
       "4                  0  23.71        0                0       0            28.0   \n",
       "...              ...    ...      ...              ...     ...             ...   \n",
       "319790             1  27.41        1                0       0             7.0   \n",
       "319791             0  29.84        1                0       0             0.0   \n",
       "319792             0  24.24        0                0       0             0.0   \n",
       "319793             0  32.81        0                0       0             0.0   \n",
       "319794             0  46.56        0                0       0             0.0   \n",
       "\n",
       "        MentalHealth  DiffWalking Diabetic  PhysicalActivity  ...  Asian  \\\n",
       "0               30.0            0        1                 1  ...      0   \n",
       "1                0.0            0        0                 1  ...      0   \n",
       "2               30.0            0        1                 1  ...      0   \n",
       "3                0.0            0        0                 0  ...      0   \n",
       "4                0.0            1        0                 1  ...      0   \n",
       "...              ...          ...      ...               ...  ...    ...   \n",
       "319790           0.0            1        1                 0  ...      0   \n",
       "319791           0.0            0        0                 1  ...      0   \n",
       "319792           0.0            0        0                 1  ...      0   \n",
       "319793           0.0            0        0                 0  ...      0   \n",
       "319794           0.0            0        0                 1  ...      0   \n",
       "\n",
       "        Black  Hispanic  Other  White  Excellent  Fair  Good  Poor  Very good  \n",
       "0           0         0      0      1          0     0     0     0          1  \n",
       "1           0         0      0      1          0     0     0     0          1  \n",
       "2           0         0      0      1          0     1     0     0          0  \n",
       "3           0         0      0      1          0     0     1     0          0  \n",
       "4           0         0      0      1          0     0     0     0          1  \n",
       "...       ...       ...    ...    ...        ...   ...   ...   ...        ...  \n",
       "319790      0         1      0      0          0     1     0     0          0  \n",
       "319791      0         1      0      0          0     0     0     0          1  \n",
       "319792      0         1      0      0          0     0     1     0          0  \n",
       "319793      0         1      0      0          0     0     1     0          0  \n",
       "319794      0         1      0      0          0     0     1     0          0  \n",
       "\n",
       "[319795 rows x 40 columns]"
      ]
     },
     "execution_count": 38,
     "metadata": {},
     "output_type": "execute_result"
    }
   ],
   "source": [
    "one_hot_sex = pd.get_dummies(df['Sex'])\n",
    "df = df.drop('Sex',axis = 1)\n",
    "df = df.join(one_hot_sex)\n",
    "  \n",
    "one_hot_ageCategory = pd.get_dummies(df['AgeCategory'])\n",
    "df = df.drop('AgeCategory',axis = 1)\n",
    "df = df.join(one_hot_ageCategory)\n",
    "\n",
    "one_hot_race = pd.get_dummies(df['Race'])\n",
    "df = df.drop('Race',axis = 1)\n",
    "df = df.join(one_hot_race)\n",
    "\n",
    "one_hot_genHealth = pd.get_dummies(df['GenHealth'])\n",
    "df = df.drop('GenHealth',axis = 1)\n",
    "df = df.join(one_hot_genHealth)\n",
    "\n",
    "df = df.replace(\"No\", 0).replace(\"Yes\", 1)\n",
    "\n",
    "df"
   ]
  },
  {
   "cell_type": "markdown",
   "id": "2ec73aeb",
   "metadata": {},
   "source": [
    "si les données sont corrélées entre elles, si à l’aide\n",
    "d’une représentation graphique de vos données vous pouvez déjà tirer des théories sur les\n",
    "features représentant le plus d’informations\n",
    "\n",
    "=> Il y a 27373 personnes sur les 319795 qui souffrent de maladies cardiaques\n",
    "\n",
    "=> Sur les 27373 personnes, 16037 d'entre elles fument, 1141 boivent de l'alcool, 890 fument et boivent\n",
    "\n",
    "=> Sur les 27373 personnes, 15497 ont un temps de sommeil inférieur aux 8 heures recommandées"
   ]
  },
  {
   "cell_type": "code",
   "execution_count": 39,
   "id": "d4fbc1f4",
   "metadata": {},
   "outputs": [
    {
     "data": {
      "text/plain": [
       "HeartDisease                      27373\n",
       "BMI                               27373\n",
       "Smoking                           27373\n",
       "AlcoholDrinking                   27373\n",
       "Stroke                            27373\n",
       "PhysicalHealth                    27373\n",
       "MentalHealth                      27373\n",
       "DiffWalking                       27373\n",
       "Diabetic                          27373\n",
       "PhysicalActivity                  27373\n",
       "SleepTime                         27373\n",
       "Asthma                            27373\n",
       "KidneyDisease                     27373\n",
       "SkinCancer                        27373\n",
       "Female                            27373\n",
       "Male                              27373\n",
       "18-24                             27373\n",
       "25-29                             27373\n",
       "30-34                             27373\n",
       "35-39                             27373\n",
       "40-44                             27373\n",
       "45-49                             27373\n",
       "50-54                             27373\n",
       "55-59                             27373\n",
       "60-64                             27373\n",
       "65-69                             27373\n",
       "70-74                             27373\n",
       "75-79                             27373\n",
       "80 or older                       27373\n",
       "American Indian/Alaskan Native    27373\n",
       "Asian                             27373\n",
       "Black                             27373\n",
       "Hispanic                          27373\n",
       "Other                             27373\n",
       "White                             27373\n",
       "Excellent                         27373\n",
       "Fair                              27373\n",
       "Good                              27373\n",
       "Poor                              27373\n",
       "Very good                         27373\n",
       "dtype: int64"
      ]
     },
     "execution_count": 39,
     "metadata": {},
     "output_type": "execute_result"
    }
   ],
   "source": [
    "df[df['HeartDisease'] == 1].count()"
   ]
  },
  {
   "cell_type": "code",
   "execution_count": 40,
   "id": "8f1ceb1d",
   "metadata": {},
   "outputs": [
    {
     "data": {
      "text/plain": [
       "HeartDisease                      27373\n",
       "BMI                               27373\n",
       "Smoking                           27373\n",
       "AlcoholDrinking                   27373\n",
       "Stroke                            27373\n",
       "PhysicalHealth                    27373\n",
       "MentalHealth                      27373\n",
       "DiffWalking                       27373\n",
       "Diabetic                          27373\n",
       "PhysicalActivity                  27373\n",
       "SleepTime                         27373\n",
       "Asthma                            27373\n",
       "KidneyDisease                     27373\n",
       "SkinCancer                        27373\n",
       "Female                            27373\n",
       "Male                              27373\n",
       "18-24                             27373\n",
       "25-29                             27373\n",
       "30-34                             27373\n",
       "35-39                             27373\n",
       "40-44                             27373\n",
       "45-49                             27373\n",
       "50-54                             27373\n",
       "55-59                             27373\n",
       "60-64                             27373\n",
       "65-69                             27373\n",
       "70-74                             27373\n",
       "75-79                             27373\n",
       "80 or older                       27373\n",
       "American Indian/Alaskan Native    27373\n",
       "Asian                             27373\n",
       "Black                             27373\n",
       "Hispanic                          27373\n",
       "Other                             27373\n",
       "White                             27373\n",
       "Excellent                         27373\n",
       "Fair                              27373\n",
       "Good                              27373\n",
       "Poor                              27373\n",
       "Very good                         27373\n",
       "dtype: int64"
      ]
     },
     "execution_count": 40,
     "metadata": {},
     "output_type": "execute_result"
    }
   ],
   "source": [
    "df[df['HeartDisease'] == 1].count()"
   ]
  },
  {
   "cell_type": "code",
   "execution_count": 41,
   "id": "5db90f5d",
   "metadata": {},
   "outputs": [
    {
     "data": {
      "text/plain": [
       "HeartDisease                      16037\n",
       "BMI                               16037\n",
       "Smoking                           16037\n",
       "AlcoholDrinking                   16037\n",
       "Stroke                            16037\n",
       "PhysicalHealth                    16037\n",
       "MentalHealth                      16037\n",
       "DiffWalking                       16037\n",
       "Diabetic                          16037\n",
       "PhysicalActivity                  16037\n",
       "SleepTime                         16037\n",
       "Asthma                            16037\n",
       "KidneyDisease                     16037\n",
       "SkinCancer                        16037\n",
       "Female                            16037\n",
       "Male                              16037\n",
       "18-24                             16037\n",
       "25-29                             16037\n",
       "30-34                             16037\n",
       "35-39                             16037\n",
       "40-44                             16037\n",
       "45-49                             16037\n",
       "50-54                             16037\n",
       "55-59                             16037\n",
       "60-64                             16037\n",
       "65-69                             16037\n",
       "70-74                             16037\n",
       "75-79                             16037\n",
       "80 or older                       16037\n",
       "American Indian/Alaskan Native    16037\n",
       "Asian                             16037\n",
       "Black                             16037\n",
       "Hispanic                          16037\n",
       "Other                             16037\n",
       "White                             16037\n",
       "Excellent                         16037\n",
       "Fair                              16037\n",
       "Good                              16037\n",
       "Poor                              16037\n",
       "Very good                         16037\n",
       "dtype: int64"
      ]
     },
     "execution_count": 41,
     "metadata": {},
     "output_type": "execute_result"
    }
   ],
   "source": [
    "df[(df['HeartDisease'] == 1) & (df['Smoking'] == 1)].count()"
   ]
  },
  {
   "cell_type": "code",
   "execution_count": 42,
   "id": "f566309a",
   "metadata": {},
   "outputs": [
    {
     "data": {
      "image/png": "[encoded data removed]",
      "text/plain": [
       "<Figure size 432x288 with 1 Axes>"
      ]
     },
     "metadata": {
      "needs_background": "light"
     },
     "output_type": "display_data"
    },
    {
     "name": "stdout",
     "output_type": "stream",
     "text": [
      "Smoking : 58.586928725386336\n",
      "AlcoholDrinking : 4.168341066013955\n",
      "SleepTime : 56.614181858035295\n",
      "Asthma : 18.021407956745698\n",
      "KidneyDisease : 12.621926716107112\n",
      "Diabetic : 32.722025353450476\n",
      "SkinCancer : 18.19310999890403\n",
      "Stroke : 16.034048149636504\n",
      "PhysicalActivity : 63.89142585759691\n"
     ]
    }
   ],
   "source": [
    "heartDiseased = df[df['HeartDisease'] == 1]\n",
    "smoking = len(df[(df['HeartDisease'] == 1) & (df['Smoking'] == 1)]) / len(heartDiseased) * 100\n",
    "alcool = len(df[(df['HeartDisease'] == 1) & (df['AlcoholDrinking'] == 1)]) / len(heartDiseased) * 100\n",
    "sleeptime = len(df[(df['HeartDisease'] == 1) & (df['SleepTime'] < 8)]) / len(heartDiseased) * 100\n",
    "asthma = len(df[(df['HeartDisease'] == 1) & (df['Asthma'] == 1)]) / len(heartDiseased) * 100\n",
    "kidney = len(df[(df['HeartDisease'] == 1) & (df['KidneyDisease'] == 1)]) / len(heartDiseased) * 100\n",
    "diabetic = len(df[(df['HeartDisease'] == 1) & (df['Diabetic'] == 1)]) / len(heartDiseased) * 100\n",
    "skinCancer = len(df[(df['HeartDisease'] == 1) & (df['SkinCancer'] == 1)]) / len(heartDiseased) * 100\n",
    "stroke = len(df[(df['HeartDisease'] == 1) & (df['Stroke'] == 1)]) / len(heartDiseased) * 100\n",
    "physicalActivity = len(df[(df['HeartDisease'] == 1) & (df['PhysicalActivity'] == 1)]) / len(heartDiseased) * 100\n",
    "\n",
    "fig = plt.figure()\n",
    "ax = fig.add_axes([0,0,2,1])\n",
    "criterias = ['Smoking', 'AlcoholDrinking', 'SleepTime', 'Asthma', 'KidneyDisease', 'Diabetic', 'SkinCancer', 'Stroke', 'PhysicalActivity']\n",
    "stats = [smoking, alcool, sleeptime, asthma, kidney, diabetic, skinCancer, stroke, physicalActivity]\n",
    "ax.bar(criterias, stats)\n",
    "plt.show()\n",
    "\n",
    "print(f\"Smoking : {smoking}\")\n",
    "print(f\"AlcoholDrinking : {alcool}\")\n",
    "print(f\"SleepTime : {sleeptime}\")\n",
    "print(f\"Asthma : {asthma}\")\n",
    "print(f\"KidneyDisease : {kidney}\")\n",
    "print(f\"Diabetic : {diabetic}\")\n",
    "print(f\"SkinCancer : {skinCancer}\")\n",
    "print(f\"Stroke : {stroke}\")\n",
    "print(f\"PhysicalActivity : {physicalActivity}\")"
   ]
  },
  {
   "cell_type": "markdown",
   "id": "bdfce858",
   "metadata": {},
   "source": [
    "réaliser une comparaison entre\n",
    "différents modèles"
   ]
  },
  {
   "cell_type": "code",
   "execution_count": null,
   "id": "72125d1c",
   "metadata": {},
   "outputs": [],
   "source": []
  },
  {
   "cell_type": "markdown",
   "id": "ed7f3455",
   "metadata": {},
   "source": [
    " Sélectionné le ou les modèles les plus prometteurs selon vous"
   ]
  },
  {
   "cell_type": "code",
   "execution_count": null,
   "id": "b277e40e",
   "metadata": {},
   "outputs": [],
   "source": []
  },
  {
   "cell_type": "markdown",
   "id": "dc018f88",
   "metadata": {},
   "source": [
    "Améliorer les performances de vos / votre modèle sélectionnés"
   ]
  },
  {
   "cell_type": "code",
   "execution_count": null,
   "id": "0defb3d7",
   "metadata": {},
   "outputs": [],
   "source": []
  },
  {
   "cell_type": "code",
   "execution_count": 43,
   "id": "21f01207",
   "metadata": {},
   "outputs": [
    {
     "name": "stdout",
     "output_type": "stream",
     "text": [
      "BMI\n"
     ]
    },
    {
     "name": "stderr",
     "output_type": "stream",
     "text": [
      "C:\\Users\\hugoa\\AppData\\Local\\Temp\\ipykernel_10880\\1291757220.py:1: FutureWarning: In a future version of pandas all arguments of DataFrame.drop except for the argument 'labels' will be keyword-only.\n",
      "  current = heartDiseased.drop('HeartDisease', 1)\n"
     ]
    },
    {
     "data": {
      "image/png": "[encoded data removed]",
      "text/plain": [
       "<Figure size 432x288 with 1 Axes>"
      ]
     },
     "metadata": {
      "needs_background": "light"
     },
     "output_type": "display_data"
    },
    {
     "name": "stdout",
     "output_type": "stream",
     "text": [
      "Smoking\n"
     ]
    },
    {
     "data": {
      "image/png": "[encoded data removed]",
      "text/plain": [
       "<Figure size 432x288 with 1 Axes>"
      ]
     },
     "metadata": {
      "needs_background": "light"
     },
     "output_type": "display_data"
    },
    {
     "name": "stdout",
     "output_type": "stream",
     "text": [
      "AlcoholDrinking\n"
     ]
    },
    {
     "data": {
      "image/png": "[encoded data removed]",
      "text/plain": [
       "<Figure size 432x288 with 1 Axes>"
      ]
     },
     "metadata": {
      "needs_background": "light"
     },
     "output_type": "display_data"
    },
    {
     "name": "stdout",
     "output_type": "stream",
     "text": [
      "Stroke\n"
     ]
    },
    {
     "data": {
      "image/png": "[encoded data removed]",
      "text/plain": [
       "<Figure size 432x288 with 1 Axes>"
      ]
     },
     "metadata": {
      "needs_background": "light"
     },
     "output_type": "display_data"
    },
    {
     "name": "stdout",
     "output_type": "stream",
     "text": [
      "PhysicalHealth\n"
     ]
    },
    {
     "data": {
      "image/png": "[encoded data removed]",
      "text/plain": [
       "<Figure size 432x288 with 1 Axes>"
      ]
     },
     "metadata": {
      "needs_background": "light"
     },
     "output_type": "display_data"
    },
    {
     "name": "stdout",
     "output_type": "stream",
     "text": [
      "MentalHealth\n"
     ]
    },
    {
     "data": {
      "image/png": "[encoded data removed]",
      "text/plain": [
       "<Figure size 432x288 with 1 Axes>"
      ]
     },
     "metadata": {
      "needs_background": "light"
     },
     "output_type": "display_data"
    },
    {
     "name": "stdout",
     "output_type": "stream",
     "text": [
      "DiffWalking\n"
     ]
    },
    {
     "data": {
      "image/png": "[encoded data removed]",
      "text/plain": [
       "<Figure size 432x288 with 1 Axes>"
      ]
     },
     "metadata": {
      "needs_background": "light"
     },
     "output_type": "display_data"
    },
    {
     "name": "stdout",
     "output_type": "stream",
     "text": [
      "Diabetic\n"
     ]
    },
    {
     "ename": "TypeError",
     "evalue": "the dtypes of parameters x (<U23) and width (float64) are incompatible",
     "output_type": "error",
     "traceback": [
      "\u001b[1;31m---------------------------------------------------------------------------\u001b[0m",
      "\u001b[1;31mUFuncTypeError\u001b[0m                            Traceback (most recent call last)",
      "File \u001b[1;32m~\\AppData\\Local\\Programs\\Python\\Python310\\lib\\site-packages\\matplotlib\\axes\\_axes.py:2373\u001b[0m, in \u001b[0;36mAxes.bar\u001b[1;34m(self, x, height, width, bottom, align, **kwargs)\u001b[0m\n\u001b[0;32m   <a href='file:///c%3A/Users/hugoa/AppData/Local/Programs/Python/Python310/lib/site-packages/matplotlib/axes/_axes.py?line=2371'>2372</a>\u001b[0m \u001b[39mtry\u001b[39;00m:\n\u001b[1;32m-> <a href='file:///c%3A/Users/hugoa/AppData/Local/Programs/Python/Python310/lib/site-packages/matplotlib/axes/_axes.py?line=2372'>2373</a>\u001b[0m     left \u001b[39m=\u001b[39m x \u001b[39m-\u001b[39;49m width \u001b[39m/\u001b[39;49m \u001b[39m2\u001b[39;49m\n\u001b[0;32m   <a href='file:///c%3A/Users/hugoa/AppData/Local/Programs/Python/Python310/lib/site-packages/matplotlib/axes/_axes.py?line=2373'>2374</a>\u001b[0m \u001b[39mexcept\u001b[39;00m \u001b[39mTypeError\u001b[39;00m \u001b[39mas\u001b[39;00m e:\n",
      "\u001b[1;31mUFuncTypeError\u001b[0m: ufunc 'subtract' did not contain a loop with signature matching types (dtype('<U23'), dtype('float64')) -> None",
      "\nThe above exception was the direct cause of the following exception:\n",
      "\u001b[1;31mTypeError\u001b[0m                                 Traceback (most recent call last)",
      "\u001b[1;32mc:\\Users\\hugoa\\Documents\\work\\machineLearningHeartDisease\\project.ipynb Cell 24'\u001b[0m in \u001b[0;36m<cell line: 2>\u001b[1;34m()\u001b[0m\n\u001b[0;32m      <a href='vscode-notebook-cell:/c%3A/Users/hugoa/Documents/work/machineLearningHeartDisease/project.ipynb#ch0000023?line=4'>5</a>\u001b[0m fig \u001b[39m=\u001b[39m plt\u001b[39m.\u001b[39mfigure()\n\u001b[0;32m      <a href='vscode-notebook-cell:/c%3A/Users/hugoa/Documents/work/machineLearningHeartDisease/project.ipynb#ch0000023?line=5'>6</a>\u001b[0m ax \u001b[39m=\u001b[39m fig\u001b[39m.\u001b[39madd_axes([\u001b[39m0\u001b[39m,\u001b[39m0\u001b[39m,\u001b[39m2\u001b[39m,\u001b[39m1\u001b[39m])\n\u001b[1;32m----> <a href='vscode-notebook-cell:/c%3A/Users/hugoa/Documents/work/machineLearningHeartDisease/project.ipynb#ch0000023?line=6'>7</a>\u001b[0m ax\u001b[39m.\u001b[39;49mbar(values\u001b[39m.\u001b[39;49mindex\u001b[39m.\u001b[39;49mtolist(), values\u001b[39m.\u001b[39;49mtolist())\n\u001b[0;32m      <a href='vscode-notebook-cell:/c%3A/Users/hugoa/Documents/work/machineLearningHeartDisease/project.ipynb#ch0000023?line=7'>8</a>\u001b[0m plt\u001b[39m.\u001b[39mshow()\n",
      "File \u001b[1;32m~\\AppData\\Local\\Programs\\Python\\Python310\\lib\\site-packages\\matplotlib\\__init__.py:1412\u001b[0m, in \u001b[0;36m_preprocess_data.<locals>.inner\u001b[1;34m(ax, data, *args, **kwargs)\u001b[0m\n\u001b[0;32m   <a href='file:///c%3A/Users/hugoa/AppData/Local/Programs/Python/Python310/lib/site-packages/matplotlib/__init__.py?line=1408'>1409</a>\u001b[0m \u001b[39m@functools\u001b[39m\u001b[39m.\u001b[39mwraps(func)\n\u001b[0;32m   <a href='file:///c%3A/Users/hugoa/AppData/Local/Programs/Python/Python310/lib/site-packages/matplotlib/__init__.py?line=1409'>1410</a>\u001b[0m \u001b[39mdef\u001b[39;00m \u001b[39minner\u001b[39m(ax, \u001b[39m*\u001b[39margs, data\u001b[39m=\u001b[39m\u001b[39mNone\u001b[39;00m, \u001b[39m*\u001b[39m\u001b[39m*\u001b[39mkwargs):\n\u001b[0;32m   <a href='file:///c%3A/Users/hugoa/AppData/Local/Programs/Python/Python310/lib/site-packages/matplotlib/__init__.py?line=1410'>1411</a>\u001b[0m     \u001b[39mif\u001b[39;00m data \u001b[39mis\u001b[39;00m \u001b[39mNone\u001b[39;00m:\n\u001b[1;32m-> <a href='file:///c%3A/Users/hugoa/AppData/Local/Programs/Python/Python310/lib/site-packages/matplotlib/__init__.py?line=1411'>1412</a>\u001b[0m         \u001b[39mreturn\u001b[39;00m func(ax, \u001b[39m*\u001b[39m\u001b[39mmap\u001b[39m(sanitize_sequence, args), \u001b[39m*\u001b[39m\u001b[39m*\u001b[39mkwargs)\n\u001b[0;32m   <a href='file:///c%3A/Users/hugoa/AppData/Local/Programs/Python/Python310/lib/site-packages/matplotlib/__init__.py?line=1413'>1414</a>\u001b[0m     bound \u001b[39m=\u001b[39m new_sig\u001b[39m.\u001b[39mbind(ax, \u001b[39m*\u001b[39margs, \u001b[39m*\u001b[39m\u001b[39m*\u001b[39mkwargs)\n\u001b[0;32m   <a href='file:///c%3A/Users/hugoa/AppData/Local/Programs/Python/Python310/lib/site-packages/matplotlib/__init__.py?line=1414'>1415</a>\u001b[0m     auto_label \u001b[39m=\u001b[39m (bound\u001b[39m.\u001b[39marguments\u001b[39m.\u001b[39mget(label_namer)\n\u001b[0;32m   <a href='file:///c%3A/Users/hugoa/AppData/Local/Programs/Python/Python310/lib/site-packages/matplotlib/__init__.py?line=1415'>1416</a>\u001b[0m                   \u001b[39mor\u001b[39;00m bound\u001b[39m.\u001b[39mkwargs\u001b[39m.\u001b[39mget(label_namer))\n",
      "File \u001b[1;32m~\\AppData\\Local\\Programs\\Python\\Python310\\lib\\site-packages\\matplotlib\\axes\\_axes.py:2375\u001b[0m, in \u001b[0;36mAxes.bar\u001b[1;34m(self, x, height, width, bottom, align, **kwargs)\u001b[0m\n\u001b[0;32m   <a href='file:///c%3A/Users/hugoa/AppData/Local/Programs/Python/Python310/lib/site-packages/matplotlib/axes/_axes.py?line=2372'>2373</a>\u001b[0m         left \u001b[39m=\u001b[39m x \u001b[39m-\u001b[39m width \u001b[39m/\u001b[39m \u001b[39m2\u001b[39m\n\u001b[0;32m   <a href='file:///c%3A/Users/hugoa/AppData/Local/Programs/Python/Python310/lib/site-packages/matplotlib/axes/_axes.py?line=2373'>2374</a>\u001b[0m     \u001b[39mexcept\u001b[39;00m \u001b[39mTypeError\u001b[39;00m \u001b[39mas\u001b[39;00m e:\n\u001b[1;32m-> <a href='file:///c%3A/Users/hugoa/AppData/Local/Programs/Python/Python310/lib/site-packages/matplotlib/axes/_axes.py?line=2374'>2375</a>\u001b[0m         \u001b[39mraise\u001b[39;00m \u001b[39mTypeError\u001b[39;00m(\u001b[39mf\u001b[39m\u001b[39m'\u001b[39m\u001b[39mthe dtypes of parameters x (\u001b[39m\u001b[39m{\u001b[39;00mx\u001b[39m.\u001b[39mdtype\u001b[39m}\u001b[39;00m\u001b[39m) \u001b[39m\u001b[39m'\u001b[39m\n\u001b[0;32m   <a href='file:///c%3A/Users/hugoa/AppData/Local/Programs/Python/Python310/lib/site-packages/matplotlib/axes/_axes.py?line=2375'>2376</a>\u001b[0m                         \u001b[39mf\u001b[39m\u001b[39m'\u001b[39m\u001b[39mand width (\u001b[39m\u001b[39m{\u001b[39;00mwidth\u001b[39m.\u001b[39mdtype\u001b[39m}\u001b[39;00m\u001b[39m) \u001b[39m\u001b[39m'\u001b[39m\n\u001b[0;32m   <a href='file:///c%3A/Users/hugoa/AppData/Local/Programs/Python/Python310/lib/site-packages/matplotlib/axes/_axes.py?line=2376'>2377</a>\u001b[0m                         \u001b[39mf\u001b[39m\u001b[39m'\u001b[39m\u001b[39mare incompatible\u001b[39m\u001b[39m'\u001b[39m) \u001b[39mfrom\u001b[39;00m \u001b[39me\u001b[39;00m\n\u001b[0;32m   <a href='file:///c%3A/Users/hugoa/AppData/Local/Programs/Python/Python310/lib/site-packages/matplotlib/axes/_axes.py?line=2377'>2378</a>\u001b[0m     bottom \u001b[39m=\u001b[39m y\n\u001b[0;32m   <a href='file:///c%3A/Users/hugoa/AppData/Local/Programs/Python/Python310/lib/site-packages/matplotlib/axes/_axes.py?line=2378'>2379</a>\u001b[0m \u001b[39melif\u001b[39;00m orientation \u001b[39m==\u001b[39m \u001b[39m'\u001b[39m\u001b[39mhorizontal\u001b[39m\u001b[39m'\u001b[39m:\n",
      "\u001b[1;31mTypeError\u001b[0m: the dtypes of parameters x (<U23) and width (float64) are incompatible"
     ]
    },
    {
     "data": {
      "image/png": "[encoded data removed]",
      "text/plain": [
       "<Figure size 432x288 with 1 Axes>"
      ]
     },
     "metadata": {
      "needs_background": "light"
     },
     "output_type": "display_data"
    }
   ],
   "source": [
    "current = heartDiseased.drop('HeartDisease', 1)\n",
    "for str in current.columns:\n",
    "    print(str)\n",
    "    values = current[str].value_counts()\n",
    "    fig = plt.figure()\n",
    "    ax = fig.add_axes([0,0,2,1])\n",
    "    ax.bar(values.index.tolist(), values.tolist())\n",
    "    plt.show()\n"
   ]
  }
 ],
 "metadata": {
  "kernelspec": {
   "display_name": "Python 3 (ipykernel)",
   "language": "python",
   "name": "python3"
  },
  "language_info": {
   "codemirror_mode": {
    "name": "ipython",
    "version": 3
   },
   "file_extension": ".py",
   "mimetype": "text/x-python",
   "name": "python",
   "nbconvert_exporter": "python",
   "pygments_lexer": "ipython3",
   "version": "3.10.3"
  }
 },
 "nbformat": 4,
 "nbformat_minor": 5
}
