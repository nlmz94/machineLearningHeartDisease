{
 "cells": [
  {
   "cell_type": "markdown",
   "id": "525cf486",
   "metadata": {},
   "source": [
    "# Projet"
   ]
  },
  {
   "cell_type": "code",
   "execution_count": 208,
   "id": "d41026c5",
   "metadata": {},
   "outputs": [],
   "source": [
    "import pandas as pd\n",
    "import matplotlib.pyplot as plt\n",
    "\n",
    "data = pd.read_csv('heart_2020_cleaned.csv')"
   ]
  },
  {
   "cell_type": "markdown",
   "id": "c7be73dc",
   "metadata": {},
   "source": [
    "## Exploration"
   ]
  },
  {
   "cell_type": "code",
   "execution_count": 209,
   "id": "a4dc9457",
   "metadata": {},
   "outputs": [
    {
     "data": {
      "text/plain": [
       "(319795, 18)"
      ]
     },
     "execution_count": 209,
     "metadata": {},
     "output_type": "execute_result"
    }
   ],
   "source": [
    "data.shape"
   ]
  },
  {
   "cell_type": "code",
   "execution_count": 210,
   "id": "f8f9be85",
   "metadata": {},
   "outputs": [
    {
     "data": {
      "text/plain": [
       "HeartDisease         object\n",
       "BMI                 float64\n",
       "Smoking              object\n",
       "AlcoholDrinking      object\n",
       "Stroke               object\n",
       "PhysicalHealth      float64\n",
       "MentalHealth        float64\n",
       "DiffWalking          object\n",
       "Sex                  object\n",
       "AgeCategory          object\n",
       "Race                 object\n",
       "Diabetic             object\n",
       "PhysicalActivity     object\n",
       "GenHealth            object\n",
       "SleepTime           float64\n",
       "Asthma               object\n",
       "KidneyDisease        object\n",
       "SkinCancer           object\n",
       "dtype: object"
      ]
     },
     "execution_count": 210,
     "metadata": {},
     "output_type": "execute_result"
    }
   ],
   "source": [
    "data.dtypes"
   ]
  },
  {
   "cell_type": "markdown",
   "id": "14583c06",
   "metadata": {},
   "source": [
    "On peut observer les valeurs continues"
   ]
  },
  {
   "cell_type": "code",
   "execution_count": 211,
   "id": "12f70e1e",
   "metadata": {},
   "outputs": [
    {
     "data": {
      "text/html": [
       "<div>\n",
       "<style scoped>\n",
       "    .dataframe tbody tr th:only-of-type {\n",
       "        vertical-align: middle;\n",
       "    }\n",
       "\n",
       "    .dataframe tbody tr th {\n",
       "        vertical-align: top;\n",
       "    }\n",
       "\n",
       "    .dataframe thead th {\n",
       "        text-align: right;\n",
       "    }\n",
       "</style>\n",
       "<table border=\"1\" class=\"dataframe\">\n",
       "  <thead>\n",
       "    <tr style=\"text-align: right;\">\n",
       "      <th></th>\n",
       "      <th>BMI</th>\n",
       "      <th>PhysicalHealth</th>\n",
       "      <th>MentalHealth</th>\n",
       "      <th>SleepTime</th>\n",
       "    </tr>\n",
       "  </thead>\n",
       "  <tbody>\n",
       "    <tr>\n",
       "      <th>0</th>\n",
       "      <td>16.60</td>\n",
       "      <td>3.00</td>\n",
       "      <td>30.00</td>\n",
       "      <td>5.00</td>\n",
       "    </tr>\n",
       "    <tr>\n",
       "      <th>1</th>\n",
       "      <td>20.34</td>\n",
       "      <td>0.00</td>\n",
       "      <td>0.00</td>\n",
       "      <td>7.00</td>\n",
       "    </tr>\n",
       "  </tbody>\n",
       "</table>\n",
       "</div>"
      ],
      "text/plain": [
       "    BMI  PhysicalHealth  MentalHealth  SleepTime\n",
       "0 16.60            3.00         30.00       5.00\n",
       "1 20.34            0.00          0.00       7.00"
      ]
     },
     "execution_count": 211,
     "metadata": {},
     "output_type": "execute_result"
    }
   ],
   "source": [
    "dataNumber = data.select_dtypes('float64')\n",
    "dataNumber.head(2)\n"
   ]
  },
  {
   "cell_type": "markdown",
   "id": "fd0f9f3f",
   "metadata": {},
   "source": [
    "Et les valeurs discrètes "
   ]
  },
  {
   "cell_type": "code",
   "execution_count": 212,
   "id": "7e1ed4f9",
   "metadata": {},
   "outputs": [
    {
     "data": {
      "text/html": [
       "<div>\n",
       "<style scoped>\n",
       "    .dataframe tbody tr th:only-of-type {\n",
       "        vertical-align: middle;\n",
       "    }\n",
       "\n",
       "    .dataframe tbody tr th {\n",
       "        vertical-align: top;\n",
       "    }\n",
       "\n",
       "    .dataframe thead th {\n",
       "        text-align: right;\n",
       "    }\n",
       "</style>\n",
       "<table border=\"1\" class=\"dataframe\">\n",
       "  <thead>\n",
       "    <tr style=\"text-align: right;\">\n",
       "      <th></th>\n",
       "      <th>HeartDisease</th>\n",
       "      <th>Smoking</th>\n",
       "      <th>AlcoholDrinking</th>\n",
       "      <th>Stroke</th>\n",
       "      <th>DiffWalking</th>\n",
       "      <th>Sex</th>\n",
       "      <th>AgeCategory</th>\n",
       "      <th>Race</th>\n",
       "      <th>Diabetic</th>\n",
       "      <th>PhysicalActivity</th>\n",
       "      <th>GenHealth</th>\n",
       "      <th>Asthma</th>\n",
       "      <th>KidneyDisease</th>\n",
       "      <th>SkinCancer</th>\n",
       "    </tr>\n",
       "  </thead>\n",
       "  <tbody>\n",
       "    <tr>\n",
       "      <th>0</th>\n",
       "      <td>No</td>\n",
       "      <td>Yes</td>\n",
       "      <td>No</td>\n",
       "      <td>No</td>\n",
       "      <td>No</td>\n",
       "      <td>Female</td>\n",
       "      <td>55-59</td>\n",
       "      <td>White</td>\n",
       "      <td>Yes</td>\n",
       "      <td>Yes</td>\n",
       "      <td>Very good</td>\n",
       "      <td>Yes</td>\n",
       "      <td>No</td>\n",
       "      <td>Yes</td>\n",
       "    </tr>\n",
       "    <tr>\n",
       "      <th>1</th>\n",
       "      <td>No</td>\n",
       "      <td>No</td>\n",
       "      <td>No</td>\n",
       "      <td>Yes</td>\n",
       "      <td>No</td>\n",
       "      <td>Female</td>\n",
       "      <td>80 or older</td>\n",
       "      <td>White</td>\n",
       "      <td>No</td>\n",
       "      <td>Yes</td>\n",
       "      <td>Very good</td>\n",
       "      <td>No</td>\n",
       "      <td>No</td>\n",
       "      <td>No</td>\n",
       "    </tr>\n",
       "  </tbody>\n",
       "</table>\n",
       "</div>"
      ],
      "text/plain": [
       "  HeartDisease Smoking AlcoholDrinking Stroke DiffWalking     Sex  \\\n",
       "0           No     Yes              No     No          No  Female   \n",
       "1           No      No              No    Yes          No  Female   \n",
       "\n",
       "   AgeCategory   Race Diabetic PhysicalActivity  GenHealth Asthma  \\\n",
       "0        55-59  White      Yes              Yes  Very good    Yes   \n",
       "1  80 or older  White       No              Yes  Very good     No   \n",
       "\n",
       "  KidneyDisease SkinCancer  \n",
       "0            No        Yes  \n",
       "1            No         No  "
      ]
     },
     "execution_count": 212,
     "metadata": {},
     "output_type": "execute_result"
    }
   ],
   "source": [
    "dataObject = data.select_dtypes('object')\n",
    "dataObject.head(2)"
   ]
  },
  {
   "cell_type": "markdown",
   "id": "92f2dfd0",
   "metadata": {},
   "source": [
    "Quantité de valeus nulles => Le fichier ne contient aucune valeur nulle "
   ]
  },
  {
   "cell_type": "code",
   "execution_count": 213,
   "id": "5b47ff54",
   "metadata": {},
   "outputs": [
    {
     "data": {
      "text/plain": [
       "HeartDisease        0\n",
       "BMI                 0\n",
       "Smoking             0\n",
       "AlcoholDrinking     0\n",
       "Stroke              0\n",
       "PhysicalHealth      0\n",
       "MentalHealth        0\n",
       "DiffWalking         0\n",
       "Sex                 0\n",
       "AgeCategory         0\n",
       "Race                0\n",
       "Diabetic            0\n",
       "PhysicalActivity    0\n",
       "GenHealth           0\n",
       "SleepTime           0\n",
       "Asthma              0\n",
       "KidneyDisease       0\n",
       "SkinCancer          0\n",
       "dtype: int64"
      ]
     },
     "execution_count": 213,
     "metadata": {},
     "output_type": "execute_result"
    }
   ],
   "source": [
    "data.isna().sum()"
   ]
  },
  {
   "cell_type": "code",
   "execution_count": null,
   "id": "8894a96b",
   "metadata": {},
   "outputs": [],
   "source": []
  },
  {
   "cell_type": "markdown",
   "id": "2ec73aeb",
   "metadata": {},
   "source": [
    "si les données sont corrélées entre elles, si à l’aide\n",
    "d’une représentation graphique de vos données vous pouvez déjà tirer des théories sur les\n",
    "features représentant le plus d’informations\n",
    "\n",
    "=> Il y a 27373 personnes sur les 319795 qui souffrent de maladies cardiaques\n",
    "\n",
    "=> Sur les 27373 personnes, 16037 d'entre elles fument, 1141 boivent de l'alcool, 890 fument et boivent\n",
    "\n",
    "=> Sur les 27373 personnes, 15497 ont un temps de sommeil inférieur aux 8 heures recommandées"
   ]
  },
  {
   "cell_type": "code",
   "execution_count": 236,
   "id": "d4fbc1f4",
   "metadata": {},
   "outputs": [
    {
     "data": {
      "text/plain": [
       "HeartDisease        0\n",
       "BMI                 0\n",
       "Smoking             0\n",
       "AlcoholDrinking     0\n",
       "Stroke              0\n",
       "PhysicalHealth      0\n",
       "MentalHealth        0\n",
       "DiffWalking         0\n",
       "Sex                 0\n",
       "AgeCategory         0\n",
       "Race                0\n",
       "Diabetic            0\n",
       "PhysicalActivity    0\n",
       "GenHealth           0\n",
       "SleepTime           0\n",
       "Asthma              0\n",
       "KidneyDisease       0\n",
       "SkinCancer          0\n",
       "dtype: int64"
      ]
     },
     "execution_count": 236,
     "metadata": {},
     "output_type": "execute_result"
    }
   ],
   "source": [
    "data[data['HeartDisease'] == 1].count()"
   ]
  },
  {
   "cell_type": "code",
   "execution_count": 215,
   "id": "8f1ceb1d",
   "metadata": {},
   "outputs": [
    {
     "data": {
      "text/plain": [
       "HeartDisease        16037\n",
       "BMI                 16037\n",
       "Smoking             16037\n",
       "AlcoholDrinking     16037\n",
       "Stroke              16037\n",
       "PhysicalHealth      16037\n",
       "MentalHealth        16037\n",
       "DiffWalking         16037\n",
       "Sex                 16037\n",
       "AgeCategory         16037\n",
       "Race                16037\n",
       "Diabetic            16037\n",
       "PhysicalActivity    16037\n",
       "GenHealth           16037\n",
       "SleepTime           16037\n",
       "Asthma              16037\n",
       "KidneyDisease       16037\n",
       "SkinCancer          16037\n",
       "dtype: int64"
      ]
     },
     "execution_count": 215,
     "metadata": {},
     "output_type": "execute_result"
    }
   ],
   "source": [
    "data[data['HeartDisease'] == 1].count()"
   ]
  },
  {
   "cell_type": "code",
   "execution_count": 216,
   "id": "5db90f5d",
   "metadata": {},
   "outputs": [
    {
     "data": {
      "text/plain": [
       "HeartDisease        15497\n",
       "BMI                 15497\n",
       "Smoking             15497\n",
       "AlcoholDrinking     15497\n",
       "Stroke              15497\n",
       "PhysicalHealth      15497\n",
       "MentalHealth        15497\n",
       "DiffWalking         15497\n",
       "Sex                 15497\n",
       "AgeCategory         15497\n",
       "Race                15497\n",
       "Diabetic            15497\n",
       "PhysicalActivity    15497\n",
       "GenHealth           15497\n",
       "SleepTime           15497\n",
       "Asthma              15497\n",
       "KidneyDisease       15497\n",
       "SkinCancer          15497\n",
       "dtype: int64"
      ]
     },
     "execution_count": 216,
     "metadata": {},
     "output_type": "execute_result"
    }
   ],
   "source": [
    "data[(data['HeartDisease'] 1) & (data['Smoking'] == 1)].count()"
   ]
  },
  {
   "cell_type": "code",
   "execution_count": 217,
   "id": "f566309a",
   "metadata": {},
   "outputs": [
    {
     "data": {
      "image/png": "[encoded data removed]",
      "text/plain": [
       "<Figure size 432x288 with 1 Axes>"
      ]
     },
     "metadata": {
      "needs_background": "light"
     },
     "output_type": "display_data"
    },
    {
     "name": "stdout",
     "output_type": "stream",
     "text": [
      "Smoking : 58.586928725386336\n",
      "AlcoholDrinking : 4.168341066013955\n",
      "SleepTime : 56.614181858035295\n",
      "Asthma : 18.021407956745698\n",
      "KidneyDisease : 12.621926716107112\n",
      "Diabetic : 32.722025353450476\n",
      "SkinCancer : 18.19310999890403\n",
      "Stroke : 16.034048149636504\n",
      "PhysicalActivity : 63.89142585759691\n"
     ]
    }
   ],
   "source": [
    "heartDiseased = data[data['HeartDisease'] == 1]\n",
    "smoking = len(data[(data['HeartDisease'] == 1) & (data['Smoking'] == 1)]) / len(heartDiseased) * 100\n",
    "alcool = len(data[(data['HeartDisease'] == 1) & (data['AlcoholDrinking'] == 1)]) / len(heartDiseased) * 100\n",
    "sleeptime = len(data[(data['HeartDisease'] == 1) & (data['SleepTime'] < 8)]) / len(heartDiseased) * 100\n",
    "asthma = len(data[(data['HeartDisease'] == 1) & (data['Asthma'] == 1)]) / len(heartDiseased) * 100\n",
    "kidney = len(data[(data['HeartDisease'] == 1) & (data['KidneyDisease'] == 1)]) / len(heartDiseased) * 100\n",
    "diabetic = len(data[(data['HeartDisease'] == 1) & (data['Diabetic'] == 1)]) / len(heartDiseased) * 100\n",
    "skinCancer = len(data[(data['HeartDisease'] == 1) & (data['SkinCancer'] == 1)]) / len(heartDiseased) * 100\n",
    "stroke = len(data[(data['HeartDisease'] == 1) & (data['Stroke'] == 1)]) / len(heartDiseased) * 100\n",
    "physicalActivity = len(data[(data['HeartDisease'] == 1) & (data['PhysicalActivity'] == 1)]) / len(heartDiseased) * 100\n",
    "\n",
    "fig = plt.figure()\n",
    "ax = fig.add_axes([0,0,2,1])\n",
    "criterias = ['Smoking', 'AlcoholDrinking', 'SleepTime', 'Asthma', 'KidneyDisease', 'Diabetic', 'SkinCancer', 'Stroke', 'PhysicalActivity']\n",
    "stats = [smoking, alcool, sleeptime, asthma, kidney, diabetic, skinCancer, stroke, physicalActivity]\n",
    "ax.bar(criterias, stats)\n",
    "plt.show()\n",
    "\n",
    "print(f\"Smoking : {smoking}\")\n",
    "print(f\"AlcoholDrinking : {alcool}\")\n",
    "print(f\"SleepTime : {sleeptime}\")\n",
    "print(f\"Asthma : {asthma}\")\n",
    "print(f\"KidneyDisease : {kidney}\")\n",
    "print(f\"Diabetic : {diabetic}\")\n",
    "print(f\"SkinCancer : {skinCancer}\")\n",
    "print(f\"Stroke : {stroke}\")\n",
    "print(f\"PhysicalActivity : {physicalActivity}\")"
   ]
  },
  {
   "cell_type": "markdown",
   "id": "bdfce858",
   "metadata": {},
   "source": [
    "réaliser une comparaison entre\n",
    "différents modèles"
   ]
  },
  {
   "cell_type": "code",
   "execution_count": null,
   "id": "72125d1c",
   "metadata": {},
   "outputs": [],
   "source": []
  },
  {
   "cell_type": "markdown",
   "id": "ed7f3455",
   "metadata": {},
   "source": [
    " Sélectionné le ou les modèles les plus prometteurs selon vous"
   ]
  },
  {
   "cell_type": "code",
   "execution_count": null,
   "id": "b277e40e",
   "metadata": {},
   "outputs": [],
   "source": []
  },
  {
   "cell_type": "markdown",
   "id": "dc018f88",
   "metadata": {},
   "source": [
    "Améliorer les performances de vos / votre modèle sélectionnés"
   ]
  },
  {
   "cell_type": "code",
   "execution_count": null,
   "id": "0defb3d7",
   "metadata": {},
   "outputs": [],
   "source": []
  },
  {
   "cell_type": "code",
   "execution_count": 218,
   "id": "21f01207",
   "metadata": {},
   "outputs": [
    {
     "name": "stdout",
     "output_type": "stream",
     "text": [
      "BMI\n"
     ]
    },
    {
     "name": "stderr",
     "output_type": "stream",
     "text": [
      "C:\\Users\\naelm\\AppData\\Local\\Temp\\ipykernel_9692\\1291757220.py:1: FutureWarning: In a future version of pandas all arguments of DataFrame.drop except for the argument 'labels' will be keyword-only.\n",
      "  current = heartDiseased.drop('HeartDisease', 1)\n"
     ]
    },
    {
     "data": {
      "image/png": "[encoded data removed]",
      "text/plain": [
       "<Figure size 432x288 with 1 Axes>"
      ]
     },
     "metadata": {
      "needs_background": "light"
     },
     "output_type": "display_data"
    },
    {
     "name": "stdout",
     "output_type": "stream",
     "text": [
      "Smoking\n"
     ]
    },
    {
     "data": {
      "image/png": "[encoded data removed]",
      "text/plain": [
       "<Figure size 432x288 with 1 Axes>"
      ]
     },
     "metadata": {
      "needs_background": "light"
     },
     "output_type": "display_data"
    },
    {
     "name": "stdout",
     "output_type": "stream",
     "text": [
      "AlcoholDrinking\n"
     ]
    },
    {
     "data": {
      "image/png": "[encoded data removed]",
      "text/plain": [
       "<Figure size 432x288 with 1 Axes>"
      ]
     },
     "metadata": {
      "needs_background": "light"
     },
     "output_type": "display_data"
    },
    {
     "name": "stdout",
     "output_type": "stream",
     "text": [
      "Stroke\n"
     ]
    },
    {
     "data": {
      "image/png": "[encoded data removed]",
      "text/plain": [
       "<Figure size 432x288 with 1 Axes>"
      ]
     },
     "metadata": {
      "needs_background": "light"
     },
     "output_type": "display_data"
    },
    {
     "name": "stdout",
     "output_type": "stream",
     "text": [
      "PhysicalHealth\n"
     ]
    },
    {
     "data": {
      "image/png": "[encoded data removed]",
      "text/plain": [
       "<Figure size 432x288 with 1 Axes>"
      ]
     },
     "metadata": {
      "needs_background": "light"
     },
     "output_type": "display_data"
    },
    {
     "name": "stdout",
     "output_type": "stream",
     "text": [
      "MentalHealth\n"
     ]
    },
    {
     "data": {
      "image/png": "[encoded data removed]",
      "text/plain": [
       "<Figure size 432x288 with 1 Axes>"
      ]
     },
     "metadata": {
      "needs_background": "light"
     },
     "output_type": "display_data"
    },
    {
     "name": "stdout",
     "output_type": "stream",
     "text": [
      "DiffWalking\n"
     ]
    },
    {
     "data": {
      "image/png": "[encoded data removed]",
      "text/plain": [
       "<Figure size 432x288 with 1 Axes>"
      ]
     },
     "metadata": {
      "needs_background": "light"
     },
     "output_type": "display_data"
    },
    {
     "name": "stdout",
     "output_type": "stream",
     "text": [
      "Sex\n"
     ]
    },
    {
     "data": {
      "image/png": "[encoded data removed]",
      "text/plain": [
       "<Figure size 432x288 with 1 Axes>"
      ]
     },
     "metadata": {
      "needs_background": "light"
     },
     "output_type": "display_data"
    },
    {
     "name": "stdout",
     "output_type": "stream",
     "text": [
      "AgeCategory\n"
     ]
    },
    {
     "data": {
      "image/png": "[encoded data removed]",
      "text/plain": [
       "<Figure size 432x288 with 1 Axes>"
      ]
     },
     "metadata": {
      "needs_background": "light"
     },
     "output_type": "display_data"
    },
    {
     "name": "stdout",
     "output_type": "stream",
     "text": [
      "Race\n"
     ]
    },
    {
     "data": {
      "image/png": "[encoded data removed]",
      "text/plain": [
       "<Figure size 432x288 with 1 Axes>"
      ]
     },
     "metadata": {
      "needs_background": "light"
     },
     "output_type": "display_data"
    },
    {
     "name": "stdout",
     "output_type": "stream",
     "text": [
      "Diabetic\n"
     ]
    },
    {
     "data": {
      "image/png": "[encoded data removed]",
      "text/plain": [
       "<Figure size 432x288 with 1 Axes>"
      ]
     },
     "metadata": {
      "needs_background": "light"
     },
     "output_type": "display_data"
    },
    {
     "name": "stdout",
     "output_type": "stream",
     "text": [
      "PhysicalActivity\n"
     ]
    },
    {
     "data": {
      "image/png": "[encoded data removed]",
      "text/plain": [
       "<Figure size 432x288 with 1 Axes>"
      ]
     },
     "metadata": {
      "needs_background": "light"
     },
     "output_type": "display_data"
    },
    {
     "name": "stdout",
     "output_type": "stream",
     "text": [
      "GenHealth\n"
     ]
    },
    {
     "data": {
      "image/png": "[encoded data removed]",
      "text/plain": [
       "<Figure size 432x288 with 1 Axes>"
      ]
     },
     "metadata": {
      "needs_background": "light"
     },
     "output_type": "display_data"
    },
    {
     "name": "stdout",
     "output_type": "stream",
     "text": [
      "SleepTime\n"
     ]
    },
    {
     "data": {
      "image/png": "[encoded data removed]",
      "text/plain": [
       "<Figure size 432x288 with 1 Axes>"
      ]
     },
     "metadata": {
      "needs_background": "light"
     },
     "output_type": "display_data"
    },
    {
     "name": "stdout",
     "output_type": "stream",
     "text": [
      "Asthma\n"
     ]
    },
    {
     "data": {
      "image/png": "[encoded data removed]",
      "text/plain": [
       "<Figure size 432x288 with 1 Axes>"
      ]
     },
     "metadata": {
      "needs_background": "light"
     },
     "output_type": "display_data"
    },
    {
     "name": "stdout",
     "output_type": "stream",
     "text": [
      "KidneyDisease\n"
     ]
    },
    {
     "data": {
      "image/png": "[encoded data removed]",
      "text/plain": [
       "<Figure size 432x288 with 1 Axes>"
      ]
     },
     "metadata": {
      "needs_background": "light"
     },
     "output_type": "display_data"
    },
    {
     "name": "stdout",
     "output_type": "stream",
     "text": [
      "SkinCancer\n"
     ]
    },
    {
     "data": {
      "image/png": "[encoded data removed]",
      "text/plain": [
       "<Figure size 432x288 with 1 Axes>"
      ]
     },
     "metadata": {
      "needs_background": "light"
     },
     "output_type": "display_data"
    }
   ],
   "source": [
    "current = heartDiseased.drop('HeartDisease', 1)\n",
    "for str in current.columns:\n",
    "    print(str)\n",
    "    values = current[str].value_counts()\n",
    "    fig = plt.figure()\n",
    "    ax = fig.add_axes([0,0,2,1])\n",
    "    ax.bar(values.index.tolist(), values.tolist())\n",
    "    plt.show()\n"
   ]
  }
 ],
 "metadata": {
  "kernelspec": {
   "display_name": "Python 3 (ipykernel)",
   "language": "python",
   "name": "python3"
  },
  "language_info": {
   "codemirror_mode": {
    "name": "ipython",
    "version": 3
   },
   "file_extension": ".py",
   "mimetype": "text/x-python",
   "name": "python",
   "nbconvert_exporter": "python",
   "pygments_lexer": "ipython3",
   "version": "3.10.0"
  }
 },
 "nbformat": 4,
 "nbformat_minor": 5
}
